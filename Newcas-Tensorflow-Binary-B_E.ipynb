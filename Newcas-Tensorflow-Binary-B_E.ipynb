{
 "cells": [
  {
   "cell_type": "markdown",
   "metadata": {
    "id": "CMurq0fMY9rB"
   },
   "source": [
    "## **Tensorflow Implementation for the paper: Deep convolutional bidirectional LSTM recurrent neural network for epileptic seizure detection**"
   ]
  },
  {
   "cell_type": "code",
   "execution_count": 1,
   "metadata": {},
   "outputs": [
    {
     "name": "stderr",
     "output_type": "stream",
     "text": [
      "2025-07-25 15:47:19.283319: E external/local_xla/xla/stream_executor/cuda/cuda_fft.cc:477] Unable to register cuFFT factory: Attempting to register factory for plugin cuFFT when one has already been registered\n",
      "WARNING: All log messages before absl::InitializeLog() is called are written to STDERR\n",
      "E0000 00:00:1753476439.297101 1408366 cuda_dnn.cc:8310] Unable to register cuDNN factory: Attempting to register factory for plugin cuDNN when one has already been registered\n",
      "E0000 00:00:1753476439.301270 1408366 cuda_blas.cc:1418] Unable to register cuBLAS factory: Attempting to register factory for plugin cuBLAS when one has already been registered\n"
     ]
    }
   ],
   "source": [
    "import warnings\n",
    "import os\n",
    "import random\n",
    "import numpy as np\n",
    "\n",
    "# Suppress warnings first\n",
    "warnings.filterwarnings('ignore')\n",
    "os.environ['TF_CPP_MIN_LOG_LEVEL'] = '2'\n",
    "os.environ['CUDA_VISIBLE_DEVICES'] = '3'\n",
    "\n",
    "# Set seed\n",
    "SEED = 42\n",
    "\n",
    "# Reproducibility environment variables (MUST be before TensorFlow import)\n",
    "os.environ['PYTHONHASHSEED'] = str(SEED)\n",
    "os.environ['TF_DETERMINISTIC_OPS'] = '1'\n",
    "os.environ['TF_CUDNN_DETERMINISTIC'] = '1'\n",
    "\n",
    "# Set all random seeds\n",
    "random.seed(SEED)\n",
    "np.random.seed(SEED)\n",
    "\n",
    "# Now import TensorFlow and other libraries\n",
    "import matplotlib.pyplot as plt\n",
    "from scipy import stats\n",
    "import tensorflow as tf\n",
    "from tensorflow.keras.models import Sequential\n",
    "from tensorflow.keras.layers import Conv1D, MaxPooling1D, Dense, BatchNormalization, LSTM, Bidirectional, Input\n",
    "from tensorflow.keras.callbacks import ModelCheckpoint, EarlyStopping\n",
    "from sklearn.model_selection import StratifiedKFold, train_test_split\n",
    "from sklearn.metrics import confusion_matrix, accuracy_score\n",
    "\n",
    "# TensorFlow reproducibility settings\n",
    "tf.random.set_seed(SEED)\n",
    "tf.config.experimental.enable_op_determinism()\n",
    "tf.keras.utils.set_random_seed(SEED)\n",
    "\n",
    "# GPU configuration for reproducibility\n",
    "gpus = tf.config.experimental.list_physical_devices('GPU')\n",
    "if gpus:\n",
    "    try:\n",
    "        for gpu in gpus:\n",
    "            tf.config.experimental.set_memory_growth(gpu, True)\n",
    "    except RuntimeError as e:\n",
    "        print(e)"
   ]
  },
  {
   "cell_type": "code",
   "execution_count": 2,
   "metadata": {},
   "outputs": [],
   "source": [
    "# Create models directory\n",
    "import os\n",
    "os.makedirs('models', exist_ok=True)\n",
    "os.makedirs('models/weights', exist_ok=True)\n",
    "os.makedirs('models/full_models', exist_ok=True)"
   ]
  },
  {
   "cell_type": "code",
   "execution_count": 3,
   "metadata": {},
   "outputs": [],
   "source": [
    "# Parameters\n",
    "DATAPATH = \"./data\"  # UPDATE THIS PATH!\n",
    "NUMBER_OF_SAMPLES = 200\n",
    "ORIGINAL_SEQUENCE_SIZE = 4097\n",
    "NUM_EPOCHS = 20\n",
    "BATCH_SIZE = 16\n",
    "VALIDATION_SPLIT = 0.2\n",
    "N_SPLITS = 10\n",
    "\n",
    "# Model parameters\n",
    "CONV_FILTERS = 16\n",
    "CONV_KERNEL_SIZE = 5\n",
    "POOL_SIZE = 3\n",
    "LSTM_UNITS = 20\n",
    "LSTM_DROPOUT = 0.1\n",
    "BATCH_NORM_MOMENTUM = 0.9"
   ]
  },
  {
   "cell_type": "code",
   "execution_count": 4,
   "metadata": {},
   "outputs": [],
   "source": [
    "# Data loading functions\n",
    "def read_eeg_files(data_path, file_identifier):\n",
    "    data_list = []\n",
    "    for filename in sorted(os.listdir(data_path)):\n",
    "        if not os.path.isfile(os.path.join(data_path, filename)):\n",
    "            continue\n",
    "        if \"py\" in filename:\n",
    "            continue\n",
    "        if file_identifier in filename:\n",
    "            filepath = os.path.join(data_path, filename)\n",
    "            with open(filepath, 'r') as f:\n",
    "                content = f.readlines()\n",
    "                data_list.extend([float(line.strip()) for line in content if line.strip()])\n",
    "    return data_list"
   ]
  },
  {
   "cell_type": "code",
   "execution_count": 5,
   "metadata": {},
   "outputs": [],
   "source": [
    "def load_and_preprocess_data(data_path, num_samples, sequence_size):\n",
    "    print(\"Loading EEG data...\")\n",
    "    data_list = []\n",
    "    data_list.extend(read_eeg_files(data_path, 'O'))  # Normal signals\n",
    "    data_list.extend(read_eeg_files(data_path, 'S'))  # Seizure signals\n",
    "    \n",
    "    X = np.array(data_list).reshape(num_samples, sequence_size)\n",
    "    y = np.zeros(num_samples)\n",
    "    y[:num_samples//2] = 1  # Normal (Z) has label 1\n",
    "    y[num_samples//2:] = 0  # Seizure (S) has label 0\n",
    "    \n",
    "    print(f\"Data shape: {X.shape}\")\n",
    "    print(f\"Labels shape: {y.shape}\")\n",
    "    print(f\"Normal samples: {np.sum(y == 1)}, Seizure samples: {np.sum(y == 0)}\")\n",
    "    return X, y"
   ]
  },
  {
   "cell_type": "code",
   "execution_count": 6,
   "metadata": {
    "colab": {
     "base_uri": "https://localhost:8080/"
    },
    "executionInfo": {
     "elapsed": 110,
     "status": "ok",
     "timestamp": 1647466662857,
     "user": {
      "displayName": "Ahmed Abdelhameed",
      "photoUrl": "https://lh3.googleusercontent.com/a/default-user=s64",
      "userId": "12026480775618550583"
     },
     "user_tz": 300
    },
    "id": "-GYqKDUCdVHM",
    "outputId": "374ca5ab-d3f6-4958-ec66-1e290a2b2200"
   },
   "outputs": [],
   "source": [
    "def create_model(input_shape):\n",
    "    model = Sequential([\n",
    "        Input(shape=input_shape), \n",
    "        Conv1D(CONV_FILTERS, CONV_KERNEL_SIZE, activation='relu'),\n",
    "        BatchNormalization(momentum=BATCH_NORM_MOMENTUM),\n",
    "        MaxPooling1D(POOL_SIZE),\n",
    "        Conv1D(CONV_FILTERS, CONV_KERNEL_SIZE, activation='relu'),\n",
    "        BatchNormalization(momentum=BATCH_NORM_MOMENTUM),\n",
    "        MaxPooling1D(POOL_SIZE),\n",
    "        Conv1D(CONV_FILTERS, CONV_KERNEL_SIZE, activation='relu'),\n",
    "        BatchNormalization(),\n",
    "        MaxPooling1D(POOL_SIZE),\n",
    "        Conv1D(CONV_FILTERS, CONV_KERNEL_SIZE, activation='relu'),\n",
    "        Bidirectional(LSTM(LSTM_UNITS, dropout=LSTM_DROPOUT)),\n",
    "        Dense(1, activation='sigmoid')\n",
    "    ])\n",
    "    model.compile(loss='binary_crossentropy', optimizer=tf.keras.optimizers.RMSprop(), metrics=['accuracy'])\n",
    "    return model"
   ]
  },
  {
   "cell_type": "code",
   "execution_count": 7,
   "metadata": {},
   "outputs": [
    {
     "name": "stdout",
     "output_type": "stream",
     "text": [
      "Loading EEG data...\n",
      "Data shape: (200, 4097)\n",
      "Labels shape: (200,)\n",
      "Normal samples: 100, Seizure samples: 100\n",
      "Data preprocessing completed.\n",
      "Final data shape: (200, 4097)\n"
     ]
    }
   ],
   "source": [
    "# Load and preprocess data\n",
    "X, y = load_and_preprocess_data(DATAPATH, NUMBER_OF_SAMPLES, ORIGINAL_SEQUENCE_SIZE)\n",
    "X = stats.zscore(X, ddof=0)  # Z-score normalization\n",
    "print(\"Data preprocessing completed.\")\n",
    "print(f\"Final data shape: {X.shape}\")"
   ]
  },
  {
   "cell_type": "code",
   "execution_count": null,
   "metadata": {
    "colab": {
     "base_uri": "https://localhost:8080/",
     "height": 1000
    },
    "executionInfo": {
     "elapsed": 177577,
     "status": "error",
     "timestamp": 1647467515300,
     "user": {
      "displayName": "Ahmed Abdelhameed",
      "photoUrl": "https://lh3.googleusercontent.com/a/default-user=s64",
      "userId": "12026480775618550583"
     },
     "user_tz": 300
    },
    "id": "B0xNWx8ZeyYs",
    "outputId": "a2164135-ef47-469d-a897-776e347810d5"
   },
   "outputs": [],
   "source": [
    "# Cross-validation\n",
    "kfold = StratifiedKFold(n_splits=N_SPLITS, shuffle=True, random_state=SEED)\n",
    "cv_scores = []\n",
    "cm_final = np.zeros((2, 2))\n",
    "\n",
    "print(f\"Starting {N_SPLITS}-fold cross-validation...\")\n",
    "\n",
    "for fold_idx, (train_idx, test_idx) in enumerate(kfold.split(X, y)):\n",
    "    print(f\"\\nFOLD {fold_idx + 1}/{N_SPLITS}\")\n",
    "    print(\"=\" * 30)\n",
    "    \n",
    "    # Split data\n",
    "    X_train, X_val, y_train, y_val = train_test_split(\n",
    "        X[train_idx], y[train_idx], \n",
    "        test_size=VALIDATION_SPLIT, \n",
    "        random_state=SEED,\n",
    "        stratify=y[train_idx]\n",
    "    )\n",
    "    \n",
    "    # Reshape for CNN\n",
    "    X_train = np.expand_dims(X_train, axis=2)\n",
    "    X_val = np.expand_dims(X_val, axis=2)\n",
    "    X_test = np.expand_dims(X[test_idx], axis=2)\n",
    "    \n",
    "    print(f\"Train: {X_train.shape}, Val: {X_val.shape}, Test: {X_test.shape}\")\n",
    "    \n",
    "    # Create model\n",
    "    model = create_model(input_shape=(X.shape[1], 1))\n",
    "    \n",
    "    if fold_idx == 0:\n",
    "        print(\"\\nModel Architecture:\")\n",
    "        model.summary()\n",
    "\n",
    "    filepath = f\"models/weights/fold_{fold_idx}_weights.weights.h5\"\n",
    "    \n",
    "    # Train\n",
    "    print(f\"\\nTraining fold {fold_idx + 1}...\")\n",
    "    history = model.fit(X_train, y_train, validation_data=(X_val, y_val),\n",
    "                       epochs=NUM_EPOCHS, batch_size=BATCH_SIZE, verbose=1)\n",
    "    \n",
    "    # Evaluate\n",
    "    y_pred_proba = model.predict(X_test, verbose=0)\n",
    "    y_pred = (y_pred_proba > 0.5).astype(int).flatten()\n",
    "    \n",
    "    accuracy = accuracy_score(y[test_idx], y_pred)\n",
    "    cm = confusion_matrix(y[test_idx], y_pred)\n",
    "    \n",
    "    cv_scores.append(accuracy * 100)\n",
    "    cm_final += cm\n",
    "    \n",
    "    print(f\"\\nFold {fold_idx + 1} Results:\")\n",
    "    print(f\"Accuracy: {accuracy:.4f} ({accuracy*100:.2f}%)\")\n",
    "    print(f\"Confusion Matrix:\\n{cm}\")\n",
    "    \n",
    "    # Clean up\n",
    "    del model\n",
    "    tf.keras.backend.clear_session()"
   ]
  },
  {
   "cell_type": "code",
   "execution_count": null,
   "metadata": {},
   "outputs": [],
   "source": [
    "# Save the best performing model\n",
    "print(\"\\nSaving final models...\")\n",
    "# Create and train final model on all data for deployment\n",
    "print(\"Training final model on complete dataset...\")\n",
    "X_final = np.expand_dims(X, axis=2)\n",
    "\n",
    "# Create final model\n",
    "final_model = create_model(input_shape=(X.shape[1], 1))\n",
    "\n",
    "# Train on full dataset (for deployment use)\n",
    "history_final = final_model.fit(\n",
    "    X_final, y, \n",
    "    epochs=NUM_EPOCHS, \n",
    "    batch_size=BATCH_SIZE,\n",
    "    validation_split=0.2,\n",
    "    verbose=1\n",
    ")\n",
    "# Save complete model (architecture + weights)\n",
    "final_model.save('models/full_models/seizure_detection_model.h5')\n",
    "print(\"✅ Complete model saved: models/full_models/seizure_detection_model.h5\")\n",
    "\n",
    "# Save model weights only\n",
    "final_model.save_weights('models/weights/final_model_weights.weights.h5')\n",
    "print(\"✅ Model weights saved: models/weights/final_model_weights.weights.h5\")\n",
    "\n",
    "# Save model architecture as JSON\n",
    "model_json = final_model.to_json()\n",
    "with open('models/seizure_detection_architecture.json', 'w') as json_file:\n",
    "    json_file.write(model_json)\n",
    "print(\"✅ Model architecture saved: models/seizure_detection_architecture.json\")\n",
    "\n",
    "# Save training history\n",
    "import pickle\n",
    "with open('models/training_history.pkl', 'wb') as f:\n",
    "    pickle.dump({\n",
    "        'history': history_final.history,\n",
    "        'cv_scores': cv_scores,\n",
    "        'cv_mean': np.mean(cv_scores),\n",
    "        'cv_std': np.std(cv_scores),\n",
    "        'confusion_matrix': cm_final.tolist()\n",
    "    }, f)\n",
    "print(\"✅ Training history saved: models/training_history.pkl\")\n",
    "\n",
    "print(f\"\\n📁 All models saved in 'models/' directory\")\n",
    "print(f\"🎯 Cross-validation accuracy: {np.mean(cv_scores):.2f}% (±{np.std(cv_scores):.2f}%)\")"
   ]
  },
  {
   "cell_type": "code",
   "execution_count": 10,
   "metadata": {
    "id": "ocWel_sUe2e9"
   },
   "outputs": [
    {
     "name": "stdout",
     "output_type": "stream",
     "text": [
      "\n",
      "Saving final models...\n",
      "\n",
      "==================================================\n",
      "CROSS-VALIDATION SUMMARY\n",
      "==================================================\n",
      "\n",
      "Final Confusion Matrix (sum across all folds):\n",
      "[[ 98.   2.]\n",
      " [  0. 100.]]\n",
      "\n",
      "Per-fold accuracies:\n",
      "Fold 1: 100.00%\n",
      "Fold 2: 100.00%\n",
      "Fold 3: 100.00%\n",
      "Fold 4: 95.00%\n",
      "Fold 5: 100.00%\n",
      "Fold 6: 100.00%\n",
      "Fold 7: 100.00%\n",
      "Fold 8: 95.00%\n",
      "Fold 9: 100.00%\n",
      "Fold 10: 100.00%\n",
      "\n",
      "Overall Performance:\n",
      "Average Accuracy: 99.00% (±2.00%)\n",
      "Best Fold: 100.00%\n",
      "Worst Fold: 95.00%\n",
      "\n",
      "Detailed Metrics:\n",
      "Sensitivity: 1.0000\n",
      "Specificity: 0.9800\n",
      "Precision: 0.9804\n",
      "NPV: 1.0000\n"
     ]
    },
    {
     "data": {
      "image/png": "[encoded data removed]",
      "text/plain": [
       "<Figure size 1200x500 with 3 Axes>"
      ]
     },
     "metadata": {},
     "output_type": "display_data"
    },
    {
     "name": "stdout",
     "output_type": "stream",
     "text": [
      "\n",
      "Training completed successfully!\n"
     ]
    }
   ],
   "source": [
    "# Save the best performing model\n",
    "print(\"\\nSaving final models...\")\n",
    "\n",
    "# Final results\n",
    "print(\"\\n\" + \"=\"*50)\n",
    "print(\"CROSS-VALIDATION SUMMARY\")\n",
    "print(\"=\"*50)\n",
    "\n",
    "print(f\"\\nFinal Confusion Matrix (sum across all folds):\")\n",
    "print(cm_final)\n",
    "\n",
    "print(f\"\\nPer-fold accuracies:\")\n",
    "for i, score in enumerate(cv_scores):\n",
    "    print(f\"Fold {i+1}: {score:.2f}%\")\n",
    "\n",
    "print(f\"\\nOverall Performance:\")\n",
    "print(f\"Average Accuracy: {np.mean(cv_scores):.2f}% (±{np.std(cv_scores):.2f}%)\")\n",
    "print(f\"Best Fold: {np.max(cv_scores):.2f}%\")\n",
    "print(f\"Worst Fold: {np.min(cv_scores):.2f}%\")\n",
    "\n",
    "# Additional metrics\n",
    "tn, fp, fn, tp = cm_final.ravel()\n",
    "sensitivity = tp / (tp + fn)\n",
    "specificity = tn / (tn + fp)\n",
    "precision = tp / (tp + fp)\n",
    "npv = tn / (tn + fn)\n",
    "\n",
    "print(f\"\\nDetailed Metrics:\")\n",
    "print(f\"Sensitivity: {sensitivity:.4f}\")\n",
    "print(f\"Specificity: {specificity:.4f}\")\n",
    "print(f\"Precision: {precision:.4f}\")\n",
    "print(f\"NPV: {npv:.4f}\")\n",
    "\n",
    "# Plot results\n",
    "plt.figure(figsize=(12, 5))\n",
    "\n",
    "plt.subplot(1, 2, 1)\n",
    "plt.bar(range(1, N_SPLITS + 1), cv_scores, alpha=0.7, color='skyblue', edgecolor='navy')\n",
    "plt.axhline(y=np.mean(cv_scores), color='red', linestyle='--', label=f'Mean: {np.mean(cv_scores):.2f}%')\n",
    "plt.xlabel('Fold')\n",
    "plt.ylabel('Accuracy (%)')\n",
    "plt.title('Cross-Validation Accuracy per Fold')\n",
    "plt.legend()\n",
    "plt.grid(axis='y', alpha=0.3)\n",
    "\n",
    "plt.subplot(1, 2, 2)\n",
    "plt.imshow(cm_final, interpolation='nearest', cmap='Blues')\n",
    "plt.title('Cumulative Confusion Matrix')\n",
    "plt.colorbar()\n",
    "for i in range(2):\n",
    "    for j in range(2):\n",
    "        plt.text(j, i, int(cm_final[i, j]), ha='center', va='center', fontsize=14, fontweight='bold')\n",
    "plt.ylabel('True Label')\n",
    "plt.xlabel('Predicted Label')\n",
    "plt.xticks([0, 1], ['Seizure', 'Normal'])\n",
    "plt.yticks([0, 1], ['Seizure', 'Normal'])\n",
    "\n",
    "plt.tight_layout()\n",
    "plt.show()\n",
    "\n",
    "print(\"\\nTraining completed successfully!\")"
   ]
  }
 ],
 "metadata": {
  "colab": {
   "authorship_tag": "ABX9TyNN2vRAy39oE6M724/FaB6W",
   "collapsed_sections": [],
   "mount_file_id": "1_-v72n6q0iiQUJxxcWRRyhCVEAM3gT8D",
   "name": "Newcas-Tensorflow.ipynb",
   "provenance": []
  },
  "kernelspec": {
   "display_name": "tf_keras",
   "language": "python",
   "name": "python3"
  },
  "language_info": {
   "codemirror_mode": {
    "name": "ipython",
    "version": 3
   },
   "file_extension": ".py",
   "mimetype": "text/x-python",
   "name": "python",
   "nbconvert_exporter": "python",
   "pygments_lexer": "ipython3",
   "version": "3.11.13"
  }
 },
 "nbformat": 4,
 "nbformat_minor": 4
}
